{
 "cells": [
  {
   "cell_type": "code",
   "execution_count": 1,
   "id": "716cfde3-c6d7-4659-beff-8bd4712c7dbd",
   "metadata": {},
   "outputs": [
    {
     "name": "stdout",
     "output_type": "stream",
     "text": [
      "Hello\n"
     ]
    }
   ],
   "source": [
    "print('Hello')"
   ]
  },
  {
   "cell_type": "code",
   "execution_count": 2,
   "id": "21c3cff8-a445-4944-9526-6e47b55532bb",
   "metadata": {},
   "outputs": [
    {
     "name": "stdout",
     "output_type": "stream",
     "text": [
      "Hello World\n"
     ]
    }
   ],
   "source": [
    "print ('Hello World')"
   ]
  },
  {
   "cell_type": "markdown",
   "id": "e0ed9e9a-56ac-41b4-af2f-670b79f447df",
   "metadata": {},
   "source": [
    "#first program\n",
    "This is my first program"
   ]
  },
  {
   "cell_type": "code",
   "execution_count": 3,
   "id": "3bd283fc-abf5-41aa-80be-64855036aebc",
   "metadata": {},
   "outputs": [],
   "source": [
    "#this is more documentations"
   ]
  },
  {
   "cell_type": "code",
   "execution_count": 8,
   "id": "0da00076-0f0f-4e74-a809-64ef55586973",
   "metadata": {},
   "outputs": [
    {
     "name": "stdout",
     "output_type": "stream",
     "text": [
      "insert line\n"
     ]
    }
   ],
   "source": [
    "print('insert line')"
   ]
  },
  {
   "cell_type": "code",
   "execution_count": 4,
   "id": "3c29bd44-862d-480a-bf16-765c46e9ff78",
   "metadata": {},
   "outputs": [],
   "source": [
    "import pandas as pd"
   ]
  },
  {
   "cell_type": "code",
   "execution_count": 5,
   "id": "f62232ef-cd41-49d4-a20e-7c2d26d02c2b",
   "metadata": {},
   "outputs": [
    {
     "name": "stdout",
     "output_type": "stream",
     "text": [
      "<module 'pandas' from 'C:\\\\Users\\\\mayur\\\\anaconda3\\\\Lib\\\\site-packages\\\\pandas\\\\__init__.py'>\n"
     ]
    }
   ],
   "source": [
    "print(pd)"
   ]
  },
  {
   "cell_type": "code",
   "execution_count": null,
   "id": "94fbe5d4-75c6-46fb-8e73-4104d2bb7c6d",
   "metadata": {},
   "outputs": [],
   "source": []
  },
  {
   "cell_type": "code",
   "execution_count": null,
   "id": "de61f004-5f99-4653-86de-6e64ff8154f2",
   "metadata": {},
   "outputs": [],
   "source": []
  }
 ],
 "metadata": {
  "kernelspec": {
   "display_name": "Python 3 (ipykernel)",
   "language": "python",
   "name": "python3"
  },
  "language_info": {
   "codemirror_mode": {
    "name": "ipython",
    "version": 3
   },
   "file_extension": ".py",
   "mimetype": "text/x-python",
   "name": "python",
   "nbconvert_exporter": "python",
   "pygments_lexer": "ipython3",
   "version": "3.12.4"
  }
 },
 "nbformat": 4,
 "nbformat_minor": 5
}
