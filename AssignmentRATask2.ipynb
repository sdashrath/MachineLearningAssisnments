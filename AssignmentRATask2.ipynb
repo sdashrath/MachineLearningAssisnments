{
 "cells": [
  {
   "cell_type": "code",
   "execution_count": 15,
   "id": "21f3f901-2786-458e-a012-34050160b348",
   "metadata": {},
   "outputs": [],
   "source": [
    "#!pip install transformers\n",
    "#!pip install torch torchvision torchaudio\n",
    "#!pip install accelerate\n",
    "#!pip install bitsandbytes\n",
    "\n",
    "#!pip install torch torchvision torchaudio --index-url https://download.pytorch.org/whl/cu118\n",
    "\n",
    "\n",
    "#import torch\n",
    "#print(\"PyTorch version:\", torch.__version__)\n",
    "#print(\"CUDA available:\", torch.cuda.is_available())\n",
    "\n",
    "#print(\"Transformers library is successfully installed!\")\n",
    "\n",
    "!pip install -q -U bitsandbytes transformers peft accelerate datasets scipy einops evaluate trl rouge_score\n",
    "\n",
    "\n",
    "#from transformers import AutoModelForCausalLM, AutoTokenizer, BitsAndBytesConfig\n",
    "\n",
    "# Define quantization config\n",
    "#quantization_config = BitsAndBytesConfig(\n",
    " #   load_in_4bit=True,  # or load_in_8bit=True\n",
    "  #  bnb_4bit_use_double_quant=True,\n",
    "   # bnb_4bit_quant_type=\"nf4\",\n",
    "#)\n",
    "\n",
    "# Load the model and tokenizer\n",
    "#model_name = \"unsloth/llama-3-8b-bnb-4bit\"\n",
    "#model = AutoModelForCausalLM.from_pretrained(\n",
    " #   model_name,\n",
    " #   device_map=\"auto\",\n",
    " #   quantization_config=quantization_config\n",
    "#)\n",
    "#tokenizer = AutoTokenizer.from_pretrained(model_name)\n",
    "\n",
    "#print(\"Model and tokenizer loaded successfully!\")\n",
    "\n",
    "\n"
   ]
  },
  {
   "cell_type": "code",
   "execution_count": null,
   "id": "49b81107-e944-4a86-acf9-f1dd31405417",
   "metadata": {},
   "outputs": [],
   "source": []
  }
 ],
 "metadata": {
  "kernelspec": {
   "display_name": "Python 3 (ipykernel)",
   "language": "python",
   "name": "python3"
  },
  "language_info": {
   "codemirror_mode": {
    "name": "ipython",
    "version": 3
   },
   "file_extension": ".py",
   "mimetype": "text/x-python",
   "name": "python",
   "nbconvert_exporter": "python",
   "pygments_lexer": "ipython3",
   "version": "3.12.4"
  }
 },
 "nbformat": 4,
 "nbformat_minor": 5
}
