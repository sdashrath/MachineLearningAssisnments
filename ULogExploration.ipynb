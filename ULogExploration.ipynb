{
 "cells": [
  {
   "cell_type": "code",
   "execution_count": null,
   "id": "0f33c9d8-d5e1-4cfa-bfa9-da5d8fd08e35",
   "metadata": {},
   "outputs": [],
   "source": [
    "# ML Exploration\n",
    "from sklearn.model_selection import train_test_split\n",
    "from sklearn.ensemble import RandomForestClassifier\n",
    "from sklearn.metrics import classification_report\n",
    "from sklearn.metrics import confusion_matrix\n",
    "#from ulog_data_processing import preprocess_sensor_data\n",
    "import seaborn as sns\n",
    "import matplotlib.pyplot as plt\n",
    "\n",
    "def train_ml_model(data):\n",
    "    \"\"\"\n",
    "    Train a basic machine learning model using preprocessed sensor data.\n",
    "\n",
    "    :param data: Preprocessed sensor data as a pandas DataFrame.\n",
    "    \"\"\"\n",
    "    # Prepare features and labels\n",
    "    X = data.drop(columns=[\"sensor_name\", \"timestamp\"])\n",
    "    y = data[\"sensor_name\"]  # Use sensor_name as a target for a classification example\n",
    "\n",
    "    # Encode target variable\n",
    "    y = pd.factorize(y)[0]\n",
    "\n",
    "    # Split into training and test sets\n",
    "    X_train, X_test, y_train, y_test = train_test_split(X, y, test_size=0.3, random_state=42)\n",
    "\n",
    "    # Train a Random Forest Classifier\n",
    "    model = RandomForestClassifier(n_estimators=100, random_state=42)\n",
    "    model.fit(X_train, y_train)\n",
    "\n",
    "    # Evaluate the model\n",
    "    y_pred = model.predict(X_test)\n",
    "    print(classification_report(y_test, y_pred))\n",
    "\n",
    "# Train the model\n",
    "preprocessed_data = preprocess_sensor_data(sensor_stats, directory_path)\n",
    "train_ml_model(preprocessed_data)\n",
    "\n",
    "# Calculate accuracy\n",
    "accuracy = accuracy_score(y_test, y_pred)\n",
    "print(f\"Model Accuracy: {accuracy * 100:.2f}%\")\n",
    "\n",
    "# Generate classification report\n",
    "print(\"Classification Report:\")\n",
    "print(classification_report(y_test, y_pred))\n"
   ]
  },
  {
   "cell_type": "code",
   "execution_count": null,
   "id": "a9d60a9f-6553-40e3-9acc-9f0303c568f2",
   "metadata": {},
   "outputs": [],
   "source": []
  }
 ],
 "metadata": {
  "kernelspec": {
   "display_name": "Python 3 (ipykernel)",
   "language": "python",
   "name": "python3"
  },
  "language_info": {
   "codemirror_mode": {
    "name": "ipython",
    "version": 3
   },
   "file_extension": ".py",
   "mimetype": "text/x-python",
   "name": "python",
   "nbconvert_exporter": "python",
   "pygments_lexer": "ipython3",
   "version": "3.12.4"
  }
 },
 "nbformat": 4,
 "nbformat_minor": 5
}
