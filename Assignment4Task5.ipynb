{
 "cells": [
  {
   "cell_type": "code",
   "execution_count": 1,
   "id": "27983948-1aec-45f6-be94-336b820c8c44",
   "metadata": {},
   "outputs": [],
   "source": [
    "# Import necessary libraries\n",
    "from sklearn.metrics import silhouette_score\n",
    "import matplotlib.pyplot as plt\n",
    "from sklearn.decomposition import PCA"
   ]
  },
  {
   "cell_type": "code",
   "execution_count": 2,
   "id": "0b32df54-a6f3-47c3-97df-b76db02645a7",
   "metadata": {},
   "outputs": [],
   "source": [
    "# Assuming `data_scaled` is the standardized dataset and `KMeansScratch` and `GMMScratch` have been defined\n",
    "# with optimal_k determined in Part 4"
   ]
  },
  {
   "cell_type": "code",
   "execution_count": 3,
   "id": "c830d262-3390-4fd7-b55b-a15f71cdfc13",
   "metadata": {},
   "outputs": [
    {
     "ename": "NameError",
     "evalue": "name 'KMeansScratch' is not defined",
     "output_type": "error",
     "traceback": [
      "\u001b[1;31m---------------------------------------------------------------------------\u001b[0m",
      "\u001b[1;31mNameError\u001b[0m                                 Traceback (most recent call last)",
      "Cell \u001b[1;32mIn[3], line 2\u001b[0m\n\u001b[0;32m      1\u001b[0m \u001b[38;5;66;03m# Step 1: Evaluate K-Means (from scratch) using Silhouette Score\u001b[39;00m\n\u001b[1;32m----> 2\u001b[0m kmeans_scratch \u001b[38;5;241m=\u001b[39m KMeansScratch(n_clusters\u001b[38;5;241m=\u001b[39moptimal_k)\n\u001b[0;32m      3\u001b[0m kmeans_labels \u001b[38;5;241m=\u001b[39m kmeans_scratch\u001b[38;5;241m.\u001b[39mfit(data_scaled)\n\u001b[0;32m      4\u001b[0m kmeans_silhouette \u001b[38;5;241m=\u001b[39m silhouette_score(data_scaled, kmeans_labels)\n",
      "\u001b[1;31mNameError\u001b[0m: name 'KMeansScratch' is not defined"
     ]
    }
   ],
   "source": [
    "# Step 1: Evaluate K-Means (from scratch) using Silhouette Score\n",
    "kmeans_scratch = KMeansScratch(n_clusters=optimal_k)\n",
    "kmeans_labels = kmeans_scratch.fit(data_scaled)\n",
    "kmeans_silhouette = silhouette_score(data_scaled, kmeans_labels)\n",
    "print(f\"K-Means Silhouette Score: {kmeans_silhouette}\")"
   ]
  },
  {
   "cell_type": "code",
   "execution_count": 4,
   "id": "fe323d3b-21d0-4742-ab9a-7afb6f66b3c8",
   "metadata": {},
   "outputs": [
    {
     "ename": "NameError",
     "evalue": "name 'data_scaled' is not defined",
     "output_type": "error",
     "traceback": [
      "\u001b[1;31m---------------------------------------------------------------------------\u001b[0m",
      "\u001b[1;31mNameError\u001b[0m                                 Traceback (most recent call last)",
      "Cell \u001b[1;32mIn[4], line 12\u001b[0m\n\u001b[0;32m      5\u001b[0m \u001b[38;5;66;03m# Assuming `data_scaled` is the standardized dataset,\u001b[39;00m\n\u001b[0;32m      6\u001b[0m \u001b[38;5;66;03m# `kmeans_labels` for K-Means cluster labels\u001b[39;00m\n\u001b[0;32m      7\u001b[0m \u001b[38;5;66;03m# `gmm_labels` for GMM cluster labels\u001b[39;00m\n\u001b[0;32m      8\u001b[0m \u001b[38;5;66;03m# `optimal_k` is the number of clusters\u001b[39;00m\n\u001b[0;32m      9\u001b[0m \n\u001b[0;32m     10\u001b[0m \u001b[38;5;66;03m# Step 1: Reduce data dimensions for visualization using PCA\u001b[39;00m\n\u001b[0;32m     11\u001b[0m pca \u001b[38;5;241m=\u001b[39m PCA(n_components\u001b[38;5;241m=\u001b[39m\u001b[38;5;241m2\u001b[39m)\n\u001b[1;32m---> 12\u001b[0m data_reduced \u001b[38;5;241m=\u001b[39m pca\u001b[38;5;241m.\u001b[39mfit_transform(data_scaled)\n\u001b[0;32m     14\u001b[0m \u001b[38;5;66;03m# Step 2: Visualize K-Means Clusters\u001b[39;00m\n\u001b[0;32m     15\u001b[0m plt\u001b[38;5;241m.\u001b[39mfigure(figsize\u001b[38;5;241m=\u001b[39m(\u001b[38;5;241m14\u001b[39m, \u001b[38;5;241m6\u001b[39m))\n",
      "\u001b[1;31mNameError\u001b[0m: name 'data_scaled' is not defined"
     ]
    }
   ],
   "source": [
    "# Import necessary libraries\n",
    "import matplotlib.pyplot as plt\n",
    "from sklearn.decomposition import PCA\n",
    "\n",
    "# Assuming `data_scaled` is the standardized dataset,\n",
    "# `kmeans_labels` for K-Means cluster labels\n",
    "# `gmm_labels` for GMM cluster labels\n",
    "# `optimal_k` is the number of clusters\n",
    "\n",
    "# Step 1: Reduce data dimensions for visualization using PCA\n",
    "pca = PCA(n_components=2)\n",
    "data_reduced = pca.fit_transform(data_scaled)\n",
    "\n",
    "# Step 2: Visualize K-Means Clusters\n",
    "plt.figure(figsize=(14, 6))\n",
    "\n",
    "# Plot K-Means clusters\n",
    "plt.subplot(1, 2, 1)\n",
    "plt.scatter(data_reduced[:, 0], data_reduced[:, 1], c=kmeans_labels, cmap='viridis', alpha=0.5)\n",
    "plt.title(f\"K-Means Clustering (k={optimal_k})\")\n",
    "plt.xlabel(\"Principal Component 1\")\n",
    "plt.ylabel(\"Principal Component 2\")\n",
    "\n",
    "# Step 3: Visualize GMM Clusters\n",
    "plt.subplot(1, 2, 2)\n",
    "plt.scatter(data_reduced[:, 0], data_reduced[:, 1], c=gmm_labels, cmap='viridis', alpha=0.5)\n",
    "plt.title(f\"GMM Clustering (k={optimal_k})\")\n",
    "plt.xlabel(\"Principal Component 1\")\n",
    "plt.ylabel(\"Principal Component 2\")\n",
    "\n",
    "# Show plots\n",
    "plt.tight_layout()\n",
    "plt.show()\n"
   ]
  },
  {
   "cell_type": "code",
   "execution_count": null,
   "id": "f88546e6-e927-4fb3-8156-880ca286069a",
   "metadata": {},
   "outputs": [],
   "source": []
  }
 ],
 "metadata": {
  "kernelspec": {
   "display_name": "Python 3 (ipykernel)",
   "language": "python",
   "name": "python3"
  },
  "language_info": {
   "codemirror_mode": {
    "name": "ipython",
    "version": 3
   },
   "file_extension": ".py",
   "mimetype": "text/x-python",
   "name": "python",
   "nbconvert_exporter": "python",
   "pygments_lexer": "ipython3",
   "version": "3.12.4"
  }
 },
 "nbformat": 4,
 "nbformat_minor": 5
}
