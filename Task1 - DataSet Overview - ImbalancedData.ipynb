{
 "cells": [
  {
   "cell_type": "code",
   "execution_count": 1,
   "id": "30f42adb-4ceb-41ab-aca9-74b39500e20b",
   "metadata": {},
   "outputs": [],
   "source": [
    "#Dataset Overview\n",
    "# Inspect the dataset and provide a summary, including:\n",
    "# The number of features\n",
    "# The number of samples\n",
    "# The percentage of minority and majority classes\n",
    "# A plot to show the percentage of minority and majority classes.\n",
    "\n",
    "# Importing necessary libraries\n",
    "import pandas as pd\n",
    "import numpy as np\n",
    "import matplotlib.pyplot as plt\n",
    "import seaborn as sns\n",
    "from sklearn.utils import resample"
   ]
  },
  {
   "cell_type": "code",
   "execution_count": 2,
   "id": "41539bcb-2838-498a-87e7-f15750ffb378",
   "metadata": {},
   "outputs": [],
   "source": [
    "# Assuming the dataset is stored locally as 'creditcard.csv'\n",
    "df = pd.read_csv('creditcard.csv')"
   ]
  },
  {
   "cell_type": "code",
   "execution_count": 3,
   "id": "1d18f218-9158-4962-9e80-78f48247bd53",
   "metadata": {},
   "outputs": [
    {
     "name": "stdout",
     "output_type": "stream",
     "text": [
      "Number of features: 31\n",
      "Number of samples: 284807\n"
     ]
    }
   ],
   "source": [
    "# Step 2: Dataset Overview\n",
    "# 2.1: The number of features\n",
    "print(\"Number of features:\", df.shape[1])\n",
    "\n",
    "# 2.2: The number of samples\n",
    "print(\"Number of samples:\", df.shape[0])"
   ]
  },
  {
   "cell_type": "code",
   "execution_count": 4,
   "id": "7b4053fb-abee-42d2-97b3-fd9021237fa9",
   "metadata": {},
   "outputs": [],
   "source": [
    "# 2.3: The percentage of minority (fraud) and majority (non-fraud) classes\n",
    "# The 'Class' column represents fraud (1) and non-fraud (0)\n",
    "class_counts = df['Class'].value_counts()\n",
    "minority_class = class_counts[1]\n",
    "majority_class = class_counts[0]"
   ]
  },
  {
   "cell_type": "code",
   "execution_count": 5,
   "id": "3ce71379-5c86-4f2c-a9d3-a982042c9ee2",
   "metadata": {},
   "outputs": [
    {
     "data": {
      "text/plain": [
       "Class\n",
       "0    284315\n",
       "1       492\n",
       "Name: count, dtype: int64"
      ]
     },
     "execution_count": 5,
     "metadata": {},
     "output_type": "execute_result"
    }
   ],
   "source": [
    "class_counts"
   ]
  },
  {
   "cell_type": "code",
   "execution_count": 6,
   "id": "b088570e-691c-44d3-8476-eca8ed5c6565",
   "metadata": {},
   "outputs": [
    {
     "name": "stdout",
     "output_type": "stream",
     "text": [
      "Minority class (Fraud): 492 samples (0.1727%)\n",
      "Majority class (Non-Fraud): 284315 samples (99.8273%)\n"
     ]
    }
   ],
   "source": [
    "# Calculate percentages\n",
    "minority_percentage = (minority_class / len(df)) * 100\n",
    "majority_percentage = (majority_class / len(df)) * 100\n",
    "\n",
    "print(f\"Minority class (Fraud): {minority_class} samples ({minority_percentage:.4f}%)\")\n",
    "print(f\"Majority class (Non-Fraud): {majority_class} samples ({majority_percentage:.4f}%)\")\n"
   ]
  },
  {
   "cell_type": "code",
   "execution_count": 7,
   "id": "b9602b7b-597f-4ab1-ba7c-85a2771f3890",
   "metadata": {},
   "outputs": [
    {
     "data": {
      "text/plain": [
       "0.1727485630620034"
      ]
     },
     "execution_count": 7,
     "metadata": {},
     "output_type": "execute_result"
    }
   ],
   "source": [
    "minority_percentage"
   ]
  },
  {
   "cell_type": "code",
   "execution_count": 8,
   "id": "6ea4930a-9477-4426-b3dd-b0d63def9f74",
   "metadata": {},
   "outputs": [
    {
     "data": {
      "text/plain": [
       "99.82725143693798"
      ]
     },
     "execution_count": 8,
     "metadata": {},
     "output_type": "execute_result"
    }
   ],
   "source": [
    "majority_percentage"
   ]
  },
  {
   "cell_type": "code",
   "execution_count": 9,
   "id": "4facbe30-8f68-486f-a313-8bfd69b7ec7e",
   "metadata": {},
   "outputs": [
    {
     "data": {
      "image/png": "[encoded data removed]",
      "text/plain": [
       "<Figure size 600x600 with 1 Axes>"
      ]
     },
     "metadata": {},
     "output_type": "display_data"
    }
   ],
   "source": [
    "# 2.4: Plot to show the percentage of minority and majority classes\n",
    "plt.figure(figsize=(6, 6))\n",
    "sns.barplot(x=['Non-Fraud', 'Fraud'], y=[majority_percentage, minority_percentage])\n",
    "plt.title('Percentage of Minority and Majority Classes')\n",
    "plt.ylabel('Percentage')\n",
    "plt.show()"
   ]
  },
  {
   "cell_type": "code",
   "execution_count": null,
   "id": "a5288773-9f1e-43a5-b8fa-1610ab041292",
   "metadata": {},
   "outputs": [],
   "source": []
  },
  {
   "cell_type": "code",
   "execution_count": null,
   "id": "83a8a0b0-9f62-401d-be29-e42812555439",
   "metadata": {},
   "outputs": [],
   "source": []
  }
 ],
 "metadata": {
  "kernelspec": {
   "display_name": "Python 3 (ipykernel)",
   "language": "python",
   "name": "python3"
  },
  "language_info": {
   "codemirror_mode": {
    "name": "ipython",
    "version": 3
   },
   "file_extension": ".py",
   "mimetype": "text/x-python",
   "name": "python",
   "nbconvert_exporter": "python",
   "pygments_lexer": "ipython3",
   "version": "3.12.4"
  }
 },
 "nbformat": 4,
 "nbformat_minor": 5
}
